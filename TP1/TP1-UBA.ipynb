{
 "cells": [
  {
   "cell_type": "markdown",
   "metadata": {
    "collapsed": true,
    "id": "Dh8MkXaG-c9Y",
    "jupyter": {
     "outputs_hidden": true
    }
   },
   "source": [
    "# Big Data y Machine Learning (UBA) -  2025\n",
    "\n",
    "## Trabajo Práctico 1: Jugando con APIs y WebScraping "
   ]
  },
  {
   "cell_type": "markdown",
   "metadata": {
    "id": "RhBlm6mZ-c9e"
   },
   "source": [
    "### Reglas de formato y presentación\n",
    "- El trabajo debe estar debidamente documentado comentado (utilizando #) para que tanto los docentes como sus compañeros puedan comprender el código fácilmente.\n",
    "\n",
    "- El mismo debe ser completado en este Jupyter Notebook y entregado como tal, es decir en un archivo .ipynb\n"
   ]
  },
  {
   "cell_type": "markdown",
   "metadata": {
    "id": "ZEjGaa4U-c9g"
   },
   "source": [
    "### Fecha de entrega:\n",
    "Viernes 4 de Abril a las 13:00 hs"
   ]
  },
  {
   "cell_type": "markdown",
   "metadata": {
    "id": "N9TU2y7E-c9h"
   },
   "source": [
    "### Modalidad de entrega\n",
    "- Al finalizar el trabajo práctico deben hacer un último <i>commit</i> en su repositorio de GitHub llamado “Entrega final del tp”. \n",
    "- Asegurense de haber creado una carpeta llamada TP1. Este Jupyter Notebook y el correspondiente al TP1 deben estar dentro de esa carpeta.\n",
    "- También deben enviar el link de su repositorio -para que pueda ser clonado y corregido- a mi correo 25RO35480961@campus.economicas.uba.ar. Usar de asunto de email <i>\"Big Data - TP 1 - Grupo #\"</i> y nombrar el archivo <i>\"TP1_Grupo #\"</i> donde # es el número de grupo que le fue asignado.\n",
    "- La última versión en el repositorio es la que será evaluada. Por lo que es importante que: \n",
    "    - No envien el correo hasta no haber terminado y estar seguros de que han hecho el <i>commit y push</i> a la versión final que quieren entregar. \n",
    "    - No hagan nuevos <i>push</i> despues de haber entregado su versión final. Esto generaría confusión acerca de que versión es la que quieren que se les corrija.\n",
    "- En resumen, la carpeta del repositorio debe incluir:\n",
    "    - El codigo\n",
    "    - Un documento Word (Parte A) donde esten las figuras y una breve descripción de las mismas.\n",
    "    - El excel con los links webscrappeados (Parte B)"
   ]
  },
  {
   "cell_type": "markdown",
   "metadata": {},
   "source": [
    "### Parte A"
   ]
  },
  {
   "cell_type": "markdown",
   "metadata": {
    "id": "ZXbrPraa-c9i"
   },
   "source": [
    "#### Ejercicio 1 - Jugando con APIs\n",
    "Usando la API del Banco Mundial [link](https://wbdata.readthedocs.io/en/stable/) , obtener dos series de indicadores para dos paises a elección en una consulta de búsqueda. Pueden buscar serie de indicadores de su interés."
   ]
  },
  {
   "cell_type": "code",
   "execution_count": 2,
   "metadata": {},
   "outputs": [],
   "source": [
    "import wbdata\n",
    "import pandas as pd"
   ]
  },
  {
   "cell_type": "code",
   "execution_count": 20,
   "metadata": {
    "scrolled": true
   },
   "outputs": [
    {
     "name": "stdout",
     "output_type": "stream",
     "text": [
      "\n",
      "PIB per cápita (PPA):\n",
      "country  date       Algeria     Argentina\n",
      "0        1960           NaN           NaN\n",
      "1        1961           NaN           NaN\n",
      "2        1962           NaN           NaN\n",
      "3        1963           NaN           NaN\n",
      "4        1964           NaN           NaN\n",
      "..        ...           ...           ...\n",
      "59       2019  13892.533345  23516.826198\n",
      "60       2020  12676.513056  22393.347958\n",
      "61       2021  14496.865470  26300.274261\n",
      "62       2022  15836.094437  29597.693843\n",
      "63       2023  16824.487903  30082.304525\n",
      "\n",
      "[64 rows x 3 columns]\n",
      "\n",
      "Desempleo:\n",
      "country  date  Algeria  Argentina\n",
      "0        1960      NaN        NaN\n",
      "1        1961      NaN        NaN\n",
      "2        1962      NaN        NaN\n",
      "3        1963      NaN        NaN\n",
      "4        1964      NaN        NaN\n",
      "..        ...      ...        ...\n",
      "59       2019   12.259      9.843\n",
      "60       2020   14.057     11.461\n",
      "61       2021   13.630      8.736\n",
      "62       2022   12.346      6.805\n",
      "63       2023   11.701      6.139\n",
      "\n",
      "[64 rows x 3 columns]\n"
     ]
    }
   ],
   "source": [
    "import wbdata\n",
    "import pandas as pd\n",
    "\n",
    "paises = [\"ARG\", \"DZA\"]  # Argentina y Argelia\n",
    "indicadores = {\n",
    "    \"NY.GDP.PCAP.PP.CD\": \"GDP_PCAP_PPP\",  # PIB per cápita (PPA)\n",
    "    \"SL.UEM.TOTL.ZS\": \"Unemployment\"  # Tasa de Desempleo \n",
    "}\n",
    "\n",
    "try:\n",
    "    df = wbdata.get_dataframe(indicadores, country=paises) \n",
    "except Exception as e:\n",
    "    print(f\"Error: {e}\")\n",
    "    exit()\n",
    "\n",
    "if df is not None:\n",
    "    df_gdp_pc = df.pivot_table(index='date', columns='country', values='GDP_PCAP_PPP', dropna=False).reset_index()\n",
    "    df_unemployment = df.pivot_table(index='date', columns='country', values='Unemployment', dropna=False).reset_index()\n",
    "\n",
    "    print(\"\\nPIB per cápita (PPA):\")\n",
    "    print(df_gdp_pc)\n",
    "\n",
    "    print(\"\\nDesempleo:\")\n",
    "    print(df_unemployment)\n",
    "\n",
    "else:\n",
    "    print(\"No se pudieron obtener datos.\")"
   ]
  },
  {
   "cell_type": "markdown",
   "metadata": {},
   "source": [
    "#### Ejercicio 2 - Repaso de Pandas\n",
    "Realicen una estadistica descriptiva de ambas series de indicadores comparando los dos países."
   ]
  },
  {
   "cell_type": "code",
   "execution_count": 18,
   "metadata": {},
   "outputs": [
    {
     "name": "stdout",
     "output_type": "stream",
     "text": [
      "\n",
      "Estadística Descriptiva - PIB per cápita (PPA):\n",
      "\n",
      "Argentina:\n",
      " count       34.000000\n",
      "mean     16111.389771\n",
      "std       6342.852520\n",
      "min       7158.308491\n",
      "25%      10979.483143\n",
      "50%      15512.826607\n",
      "75%      19921.529600\n",
      "max      30082.304525\n",
      "Name: Argentina, dtype: float64\n",
      "\n",
      "Argelia:\n",
      " count       34.000000\n",
      "mean     11657.590849\n",
      "std       2922.702546\n",
      "min       7462.647588\n",
      "25%       8571.276793\n",
      "50%      12733.927158\n",
      "75%      13871.237905\n",
      "max      16824.487903\n",
      "Name: Algeria, dtype: float64\n",
      "\n",
      "\n",
      "Estadística Descriptiva - Tasa de Desempleo:\n",
      "\n",
      "Argentina:\n",
      " count    33.000000\n",
      "mean     10.639758\n",
      "std       3.951450\n",
      "min       5.440000\n",
      "25%       7.579000\n",
      "50%       9.220000\n",
      "75%      13.522000\n",
      "max      19.590000\n",
      "Name: Argentina, dtype: float64\n",
      "\n",
      "Argelia:\n",
      " count    33.000000\n",
      "mean     17.804364\n",
      "std       7.621145\n",
      "min       9.820000\n",
      "25%      11.330000\n",
      "50%      13.790000\n",
      "75%      25.900000\n",
      "max      31.840000\n",
      "Name: Algeria, dtype: float64\n"
     ]
    }
   ],
   "source": [
    "import pandas as pd\n",
    "if df_gdp_pc is not None and df_unemployment is not None:\n",
    "    # 1. Estadística Descriptiva del PIB per cápita (PPA)\n",
    "    print(\"\\nEstadística Descriptiva - PIB per cápita (PPA):\")\n",
    "    print(\"\\nArgentina:\\n\", df_gdp_pc['Argentina'].describe())\n",
    "    print(\"\\nArgelia:\\n\", df_gdp_pc['Algeria'].describe())\n",
    "\n",
    "    # 2. Estadística Descriptiva de la Tasa de Desempleo\n",
    "    print(\"\\n\\nEstadística Descriptiva - Tasa de Desempleo:\")\n",
    "    print(\"\\nArgentina:\\n\", df_unemployment['Argentina'].describe())\n",
    "    print(\"\\nArgelia:\\n\", df_unemployment['Algeria'].describe())"
   ]
  },
  {
   "cell_type": "markdown",
   "metadata": {},
   "source": [
    "#### Ejercicio 3 - Practicando con Matplotlib\n",
    "Armen dos gráficos distintos usando la librería Matplotlib (repasen Clase 4). Uno programandolo con el estilo *pyplot* y otro gráfico de estilo *orientada a objetos*"
   ]
  },
  {
   "cell_type": "code",
   "execution_count": null,
   "metadata": {},
   "outputs": [],
   "source": [
    "# Resolver acá estilo pyplot\n"
   ]
  },
  {
   "cell_type": "code",
   "execution_count": null,
   "metadata": {},
   "outputs": [],
   "source": [
    "# Resolver acá estilo orientado-objetos \n",
    "# Tip: aprovechar este estilo de programar una figura para hacerlo más lindo \n"
   ]
  },
  {
   "cell_type": "markdown",
   "metadata": {},
   "source": [
    "### Parte B"
   ]
  },
  {
   "cell_type": "markdown",
   "metadata": {},
   "source": [
    "#### Ejercicio 4\n",
    "De la página de noticias del [diario La Nación](https://www.lanacion.com.ar/) o cualquier diario que les interese, utilicen herramientas de web scraping para obtener los **links** de las noticias de la portada. Guarden los links obtenidos en un dataframe y expórtenlo a un archivo de excel.\n",
    "\n",
    "Nota 1: es posible que logren obtener los links a las noticias sin el dominio: \"https://www.lanacion.com.ar/\". De ser así, concatenen el dominio a la ruta del link obtenido, tal que se obtenga un link al que se pueda acceder. Es decir, que las cadenas de caracteres finales tendrán la forma: https://www.lanacion.com.ar/*texto_obtenido*)\n",
    "\n",
    "Nota 2: junto con su entrega, adjunten una captura de la página de noticias al momento de correr su código. Eso servirá al momento de la corrección para verificar que los links obtenidos hacen referencia a las noticias de ese día y hora."
   ]
  },
  {
   "cell_type": "code",
   "execution_count": null,
   "metadata": {},
   "outputs": [],
   "source": [
    "# Resolver acá\n"
   ]
  }
 ],
 "metadata": {
  "anaconda-cloud": {},
  "colab": {
   "name": "TP1 - Parte 1.ipynb",
   "provenance": []
  },
  "kernelspec": {
   "display_name": "Python [conda env:base] *",
   "language": "python",
   "name": "conda-base-py"
  },
  "language_info": {
   "codemirror_mode": {
    "name": "ipython",
    "version": 3
   },
   "file_extension": ".py",
   "mimetype": "text/x-python",
   "name": "python",
   "nbconvert_exporter": "python",
   "pygments_lexer": "ipython3",
   "version": "3.12.7"
  }
 },
 "nbformat": 4,
 "nbformat_minor": 4
}
