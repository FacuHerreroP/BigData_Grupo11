{
 "cells": [
  {
   "cell_type": "code",
   "execution_count": 4,
   "id": "1266708b-c6b5-4d0b-92d2-30ddae79302f",
   "metadata": {},
   "outputs": [
    {
     "name": "stdout",
     "output_type": "stream",
     "text": [
      "Requirement already satisfied: statsmodels in c:\\users\\war\\anaconda3\\lib\\site-packages (0.14.2)\n",
      "Requirement already satisfied: numpy>=1.22.3 in c:\\users\\war\\anaconda3\\lib\\site-packages (from statsmodels) (1.26.4)\n",
      "Requirement already satisfied: scipy!=1.9.2,>=1.8 in c:\\users\\war\\anaconda3\\lib\\site-packages (from statsmodels) (1.13.1)\n",
      "Requirement already satisfied: pandas!=2.1.0,>=1.4 in c:\\users\\war\\anaconda3\\lib\\site-packages (from statsmodels) (2.2.2)\n",
      "Requirement already satisfied: patsy>=0.5.6 in c:\\users\\war\\anaconda3\\lib\\site-packages (from statsmodels) (0.5.6)\n",
      "Requirement already satisfied: packaging>=21.3 in c:\\users\\war\\anaconda3\\lib\\site-packages (from statsmodels) (24.1)\n",
      "Requirement already satisfied: python-dateutil>=2.8.2 in c:\\users\\war\\anaconda3\\lib\\site-packages (from pandas!=2.1.0,>=1.4->statsmodels) (2.9.0.post0)\n",
      "Requirement already satisfied: pytz>=2020.1 in c:\\users\\war\\anaconda3\\lib\\site-packages (from pandas!=2.1.0,>=1.4->statsmodels) (2024.1)\n",
      "Requirement already satisfied: tzdata>=2022.7 in c:\\users\\war\\anaconda3\\lib\\site-packages (from pandas!=2.1.0,>=1.4->statsmodels) (2023.3)\n",
      "Requirement already satisfied: six in c:\\users\\war\\anaconda3\\lib\\site-packages (from patsy>=0.5.6->statsmodels) (1.16.0)\n",
      "Requirement already satisfied: pandas in c:\\users\\war\\anaconda3\\lib\\site-packages (2.2.2)\n",
      "Requirement already satisfied: numpy in c:\\users\\war\\anaconda3\\lib\\site-packages (1.26.4)\n",
      "Requirement already satisfied: pyreadstat in c:\\users\\war\\anaconda3\\lib\\site-packages (1.2.8)\n",
      "Requirement already satisfied: openpyxl in c:\\users\\war\\anaconda3\\lib\\site-packages (3.1.5)\n",
      "Requirement already satisfied: python-dateutil>=2.8.2 in c:\\users\\war\\anaconda3\\lib\\site-packages (from pandas) (2.9.0.post0)\n",
      "Requirement already satisfied: pytz>=2020.1 in c:\\users\\war\\anaconda3\\lib\\site-packages (from pandas) (2024.1)\n",
      "Requirement already satisfied: tzdata>=2022.7 in c:\\users\\war\\anaconda3\\lib\\site-packages (from pandas) (2023.3)\n",
      "Requirement already satisfied: et-xmlfile in c:\\users\\war\\anaconda3\\lib\\site-packages (from openpyxl) (1.1.0)\n",
      "Requirement already satisfied: six>=1.5 in c:\\users\\war\\anaconda3\\lib\\site-packages (from python-dateutil>=2.8.2->pandas) (1.16.0)\n"
     ]
    }
   ],
   "source": [
    "import pandas as pd\n",
    "import numpy as np\n",
    "!pip install statsmodels\n",
    "!pip install pandas numpy pyreadstat openpyxl"
   ]
  },
  {
   "cell_type": "code",
   "execution_count": 1,
   "id": "3cd69fca-16d1-4e5f-89f0-6f73482bb672",
   "metadata": {},
   "outputs": [
    {
     "name": "stdout",
     "output_type": "stream",
     "text": [
      "Directorio actual: C:\\Users\\War\\Desktop\\Nueva carpeta\\BigData_TP1_Grupo11\\TP2\n",
      "\n",
      "Archivos en el directorio:\n",
      ".ipynb_checkpoints\n",
      "EPH_disenoreg_T1_2004.pdf\n",
      "EPH_registro_1T2024.pdf\n",
      "Untitled.ipynb\n",
      "usu_individual_T104.dta\n",
      "usu_individual_T124.xls\n"
     ]
    }
   ],
   "source": [
    "import os\n",
    "\n",
    "# Muestra el directorio actual de trabajo\n",
    "print(\"Directorio actual:\", os.getcwd())\n",
    "\n",
    "# Listar todos los archivos en el directorio actual\n",
    "print(\"\\nArchivos en el directorio:\")\n",
    "for archivo in os.listdir():\n",
    "    print(archivo)"
   ]
  },
  {
   "cell_type": "code",
   "execution_count": null,
   "id": "a7116bb1-b42e-40d7-8870-84280759e38f",
   "metadata": {},
   "outputs": [],
   "source": []
  }
 ],
 "metadata": {
  "kernelspec": {
   "display_name": "Python 3 (ipykernel)",
   "language": "python",
   "name": "python3"
  },
  "language_info": {
   "codemirror_mode": {
    "name": "ipython",
    "version": 3
   },
   "file_extension": ".py",
   "mimetype": "text/x-python",
   "name": "python",
   "nbconvert_exporter": "python",
   "pygments_lexer": "ipython3",
   "version": "3.12.7"
  }
 },
 "nbformat": 4,
 "nbformat_minor": 5
}
